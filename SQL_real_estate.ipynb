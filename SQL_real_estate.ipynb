{
 "cells": [
  {
   "cell_type": "markdown",
   "id": "2a343d71-cff4-41b7-9e3c-08ac3ec0627d",
   "metadata": {},
   "source": [
    "# -*- coding: utf-8 -*-\n",
    "\"\"\"\n",
    "Created on Sat Feb 19 2022\n",
    "\n",
    "@author: Ines AGOSSOU, Ines KOUYATE, Nandy MAVUA\n",
    "@subject: Big Data Tools for Business with Dieudonné TCHUENTE\n",
    "\"\"\""
   ]
  },
  {
   "cell_type": "markdown",
   "id": "74c756ba-d898-47c1-bcba-cc2a64da6b0b",
   "metadata": {},
   "source": [
    "# **Part 2: Real estate market data Exploration in Toulouse and its suburbs**"
   ]
  },
  {
   "cell_type": "markdown",
   "id": "7878f6b7-a4a2-4541-9685-7e856f42172f",
   "metadata": {},
   "source": [
    "### Import the modules 📁"
   ]
  },
  {
   "cell_type": "code",
   "execution_count": 4,
   "id": "d0d71443-79b4-4252-8dd5-20b89cf4d9df",
   "metadata": {},
   "outputs": [
    {
     "name": "stdout",
     "output_type": "stream",
     "text": [
      "Collecting pyspark_dist_explore\n",
      "  Downloading pyspark_dist_explore-0.1.8-py3-none-any.whl (7.2 kB)\n",
      "Requirement already satisfied: scipy in /opt/conda/lib/python3.9/site-packages (from pyspark_dist_explore) (1.8.0)\n",
      "Requirement already satisfied: pandas in /opt/conda/lib/python3.9/site-packages (from pyspark_dist_explore) (1.4.1)\n",
      "Requirement already satisfied: matplotlib in /opt/conda/lib/python3.9/site-packages (from pyspark_dist_explore) (3.5.1)\n",
      "Requirement already satisfied: numpy in /opt/conda/lib/python3.9/site-packages (from pyspark_dist_explore) (1.21.5)\n",
      "Requirement already satisfied: cycler>=0.10 in /opt/conda/lib/python3.9/site-packages (from matplotlib->pyspark_dist_explore) (0.11.0)\n",
      "Requirement already satisfied: pyparsing>=2.2.1 in /opt/conda/lib/python3.9/site-packages (from matplotlib->pyspark_dist_explore) (3.0.7)\n",
      "Requirement already satisfied: python-dateutil>=2.7 in /opt/conda/lib/python3.9/site-packages (from matplotlib->pyspark_dist_explore) (2.8.2)\n",
      "Requirement already satisfied: kiwisolver>=1.0.1 in /opt/conda/lib/python3.9/site-packages (from matplotlib->pyspark_dist_explore) (1.3.2)\n",
      "Requirement already satisfied: pillow>=6.2.0 in /opt/conda/lib/python3.9/site-packages (from matplotlib->pyspark_dist_explore) (9.0.1)\n",
      "Requirement already satisfied: fonttools>=4.22.0 in /opt/conda/lib/python3.9/site-packages (from matplotlib->pyspark_dist_explore) (4.29.1)\n",
      "Requirement already satisfied: packaging>=20.0 in /opt/conda/lib/python3.9/site-packages (from matplotlib->pyspark_dist_explore) (21.3)\n",
      "Requirement already satisfied: pytz>=2020.1 in /opt/conda/lib/python3.9/site-packages (from pandas->pyspark_dist_explore) (2021.3)\n",
      "Requirement already satisfied: six>=1.5 in /opt/conda/lib/python3.9/site-packages (from python-dateutil>=2.7->matplotlib->pyspark_dist_explore) (1.16.0)\n",
      "Installing collected packages: pyspark_dist_explore\n",
      "Successfully installed pyspark_dist_explore-0.1.8\n"
     ]
    }
   ],
   "source": [
    "!pip install pyspark_dist_explore"
   ]
  },
  {
   "cell_type": "code",
   "execution_count": 1,
   "id": "e505dda3-9855-4a7e-9a8e-e99e8aefda00",
   "metadata": {},
   "outputs": [],
   "source": [
    "import pyspark\n",
    "import pyspark.sql.functions as f\n",
    "from pyspark.sql.session import SparkSession\n",
    "from pyspark.sql.types import *\n",
    "from pyspark.sql.functions import *"
   ]
  },
  {
   "cell_type": "code",
   "execution_count": 2,
   "id": "a8c014c5-d1ca-4fa0-9e23-ba714566feaf",
   "metadata": {},
   "outputs": [],
   "source": [
    "import numpy as np\n",
    "import pandas as pd\n",
    "import matplotlib.pyplot as plt"
   ]
  },
  {
   "cell_type": "code",
   "execution_count": 5,
   "id": "2df95757-9c30-436c-ad69-971a7fa092a7",
   "metadata": {},
   "outputs": [],
   "source": [
    "from pyspark_dist_explore import hist"
   ]
  },
  {
   "cell_type": "code",
   "execution_count": 6,
   "id": "e95b0699-477c-49c2-a510-c885f33074b1",
   "metadata": {},
   "outputs": [],
   "source": [
    "spark = pyspark.sql.SparkSession.builder.appName(\"Spark-Dataframe-API-RealEstate\").getOrCreate()\n",
    "\n",
    "spark.conf.set(\"spark.sql.legacy.timeParserPolicy\",\"LEGACY\")"
   ]
  },
  {
   "cell_type": "markdown",
   "id": "edf71137-9e83-4a52-8051-6373af221ef7",
   "metadata": {},
   "source": [
    "### Cleaning 🧹"
   ]
  },
  {
   "cell_type": "markdown",
   "id": "d190d33f-9b29-4b24-bd7c-652f2d6dd067",
   "metadata": {},
   "source": [
    "#### Change the type of the data "
   ]
  },
  {
   "cell_type": "code",
   "execution_count": 7,
   "id": "322da034-d115-4c90-b4fa-91a56436b9b5",
   "metadata": {},
   "outputs": [],
   "source": [
    "real_estateSchema = StructType ([StructField(\"SaleDate\", DateType(), True),\n",
    "                                StructField(\"SaleType\", StringType(), True),\n",
    "                                StructField(\"Price\", IntegerType(), True),\n",
    "                                StructField(\"PostCode\", StringType(), True),\n",
    "                                StructField(\"City\", StringType(), True),\n",
    "                                StructField(\"NbRooms\", IntegerType(), True),\n",
    "                                StructField(\"NbLots\", IntegerType(), True),\n",
    "                                StructField(\"ResidenceType\", StringType(), True),\n",
    "                                StructField(\"LivingArea\", IntegerType(), True),\n",
    "                                StructField(\"LandArea\", IntegerType(), True)])"
   ]
  },
  {
   "cell_type": "code",
   "execution_count": 8,
   "id": "d6c3eace-b17e-4c7a-8a25-d44fbd5b2daa",
   "metadata": {},
   "outputs": [
    {
     "name": "stdout",
     "output_type": "stream",
     "text": [
      "+----------+--------------------+------+--------+-------------------+-------+------+-------------+----------+--------+\n",
      "|  SaleDate|            SaleType| Price|PostCode|               City|NbRooms|NbLots|ResidenceType|LivingArea|LandArea|\n",
      "+----------+--------------------+------+--------+-------------------+-------+------+-------------+----------+--------+\n",
      "|2019-01-15|                SALE| 95000|   31270|VILLENEUVE TOLOSANE|      2|     0|        HOUSE|        45|     505|\n",
      "|2019-01-21|                SALE|261700|   31270|VILLENEUVE TOLOSANE|      4|     0|        HOUSE|        87|     311|\n",
      "|2019-01-03|                SALE|101000|   31270|VILLENEUVE TOLOSANE|      2|     1|    APARTMENT|        44|       0|\n",
      "|2019-01-11|                SALE| 59500|   31270|VILLENEUVE TOLOSANE|      1|     1|    APARTMENT|        26|       0|\n",
      "|2019-01-15|                SALE|179000|   31270|VILLENEUVE TOLOSANE|      4|     0|        HOUSE|        95|     263|\n",
      "|2019-01-15|                SALE|209300|   31270|VILLENEUVE TOLOSANE|      4|     0|        HOUSE|        74|     257|\n",
      "|2019-01-18|                SALE|228000|   31270|VILLENEUVE TOLOSANE|      4|     0|        HOUSE|        95|     268|\n",
      "|2019-01-16|SALE BEFORE COMPL...|214300|   31270|VILLENEUVE TOLOSANE|      3|     0|        HOUSE|        66|     164|\n",
      "|2019-01-17|                SALE|306000|   31270|VILLENEUVE TOLOSANE|      5|     0|        HOUSE|       157|     763|\n",
      "|2019-01-29|                SALE|269000|   31270|VILLENEUVE TOLOSANE|      5|     0|        HOUSE|       100|     855|\n",
      "|2019-02-07|                SALE|  null|   31270|VILLENEUVE TOLOSANE|      3|     1|    APARTMENT|        64|       0|\n",
      "|2019-02-07|                SALE|220000|   31270|VILLENEUVE TOLOSANE|      4|     0|        HOUSE|        84|     484|\n",
      "|2019-04-12|                SALE|300000|   31270|VILLENEUVE TOLOSANE|      3|     0|        HOUSE|       100|     467|\n",
      "|2019-04-12|                SALE|300000|   31270|VILLENEUVE TOLOSANE|      3|     0|        HOUSE|       100|    1526|\n",
      "|2018-01-10|                SALE|215000|   31270|VILLENEUVE TOLOSANE|      4|     0|        HOUSE|        84|     107|\n",
      "|2019-01-10|                SALE|395400|   31130|  QUINT-FONSEGRIVES|      5|     0|        HOUSE|       155|     802|\n",
      "|2018-01-18|                SALE|200000|   31270|VILLENEUVE TOLOSANE|      4|     0|        HOUSE|       105|     500|\n",
      "|2018-01-05|                SALE|332000|   31270|VILLENEUVE TOLOSANE|      5|     0|        HOUSE|       140|     969|\n",
      "|2018-01-08|                SALE|123000|   31270|VILLENEUVE TOLOSANE|      3|     1|    APARTMENT|        56|       0|\n",
      "|2018-01-26|                SALE|107000|   31270|VILLENEUVE TOLOSANE|      2|     1|    APARTMENT|        47|       0|\n",
      "+----------+--------------------+------+--------+-------------------+-------+------+-------------+----------+--------+\n",
      "only showing top 20 rows\n",
      "\n"
     ]
    }
   ],
   "source": [
    "real_estate_df = spark.read.csv('project_data_real_estate_toulouse_and_suburbs.csv', sep=';', dateFormat='dd/MM/yyyy', schema=real_estateSchema, header=True)\n",
    "real_estate_df.show() "
   ]
  },
  {
   "cell_type": "code",
   "execution_count": 9,
   "id": "4a2c6cd5-33af-49ab-b13a-9965a67bcc54",
   "metadata": {},
   "outputs": [
    {
     "name": "stdout",
     "output_type": "stream",
     "text": [
      "root\n",
      " |-- SaleDate: date (nullable = true)\n",
      " |-- SaleType: string (nullable = true)\n",
      " |-- Price: integer (nullable = true)\n",
      " |-- PostCode: string (nullable = true)\n",
      " |-- City: string (nullable = true)\n",
      " |-- NbRooms: integer (nullable = true)\n",
      " |-- NbLots: integer (nullable = true)\n",
      " |-- ResidenceType: string (nullable = true)\n",
      " |-- LivingArea: integer (nullable = true)\n",
      " |-- LandArea: integer (nullable = true)\n",
      "\n"
     ]
    }
   ],
   "source": [
    "real_estate_df.printSchema()"
   ]
  },
  {
   "cell_type": "code",
   "execution_count": 11,
   "id": "356adf0f-9871-4ad5-8996-d76dac5540f5",
   "metadata": {},
   "outputs": [
    {
     "name": "stdout",
     "output_type": "stream",
     "text": [
      "+-------+------------------+------------------+------------------+-----------------+------------------+\n",
      "|summary|             Price|           NbRooms|            NbLots|       LivingArea|          LandArea|\n",
      "+-------+------------------+------------------+------------------+-----------------+------------------+\n",
      "|  count|             77105|             80118|             80118|            80118|             80118|\n",
      "|   mean| 552147.5415342714| 3.000099852717242|1.0370453580968073|66.89275818168201|254.02662323073466|\n",
      "| stddev|2435569.9954218385|1.3511218124829414|0.8291382225291024|35.89520999460289|1369.2367598573933|\n",
      "|    min|                 0|                 1|                 0|                1|                 0|\n",
      "|    25%|            122470|                 2|                 0|               43|                 0|\n",
      "|    50%|            180000|                 3|                 1|               62|                 0|\n",
      "|    75%|            280000|                 4|                 2|               82|               113|\n",
      "|    max|          33427218|                41|                13|              481|             60792|\n",
      "+-------+------------------+------------------+------------------+-----------------+------------------+\n",
      "\n"
     ]
    }
   ],
   "source": [
    "real_estate_summary_df = real_estate_df['Price', 'NbRooms', 'NbLots', 'LivingArea', 'LandArea'].summary()\n",
    "real_estate_summary_df.show()"
   ]
  },
  {
   "cell_type": "markdown",
   "id": "5ea8107f-dba6-46f6-b522-b2b044d1f90c",
   "metadata": {},
   "source": [
    "#### Remove duplicates ➿"
   ]
  },
  {
   "cell_type": "code",
   "execution_count": 12,
   "id": "6ac5c2c5-df2d-41fc-820c-d68e8c77fc8c",
   "metadata": {},
   "outputs": [
    {
     "name": "stdout",
     "output_type": "stream",
     "text": [
      "total number of rows:  80118 total number distinct rows:  71935\n"
     ]
    }
   ],
   "source": [
    "nb_rows = real_estate_df.count()\n",
    "nb_distinct_rows = real_estate_df.distinct().count()\n",
    "\n",
    "print('total number of rows: ', nb_rows, 'total number distinct rows: ', nb_distinct_rows)"
   ]
  },
  {
   "cell_type": "code",
   "execution_count": 13,
   "id": "e954fcb6-b809-4fd2-911b-4c6bc66464c2",
   "metadata": {},
   "outputs": [
    {
     "name": "stdout",
     "output_type": "stream",
     "text": [
      "8183 rows were removed\n"
     ]
    }
   ],
   "source": [
    "real_estate_without_duplicates_df = real_estate_df.dropDuplicates()\n",
    "\n",
    "print(nb_rows-nb_distinct_rows, 'rows were removed')"
   ]
  },
  {
   "cell_type": "code",
   "execution_count": 12,
   "id": "5f717bbd-290b-4662-b657-7ab4e4b49cc7",
   "metadata": {},
   "outputs": [],
   "source": [
    "#real_estate_summary_without_duplicates_df = real_estate_without_duplicates_df['Price', 'NbRooms', 'NbLots', 'LivingArea', 'LandArea'].summary()\n",
    "#real_estate_summary_without_duplicates_df.show()"
   ]
  },
  {
   "cell_type": "markdown",
   "id": "4d034f92-bcd1-4723-8711-62445c2195c7",
   "metadata": {},
   "source": [
    "#### Deal with missing values 👀"
   ]
  },
  {
   "cell_type": "code",
   "execution_count": 13,
   "id": "c725e1a3-9e58-41fd-954d-35cbe2b1ebb0",
   "metadata": {},
   "outputs": [],
   "source": [
    "#{col:real_estate_without_duplicates_df.filter(real_estate_without_duplicates_df[col].isNull()).count() for col in real_estate_without_duplicates_df.columns}"
   ]
  },
  {
   "cell_type": "code",
   "execution_count": 14,
   "id": "81c1828c-c5d4-4876-8c92-6207d25a9936",
   "metadata": {},
   "outputs": [
    {
     "name": "stdout",
     "output_type": "stream",
     "text": [
      "Missing values (Nan):\n",
      "+--------+-----+--------+----+-------+------+-------------+----------+--------+\n",
      "|SaleType|Price|PostCode|City|NbRooms|NbLots|ResidenceType|LivingArea|LandArea|\n",
      "+--------+-----+--------+----+-------+------+-------------+----------+--------+\n",
      "|       0|    0|       0|   0|      0|     0|            0|         0|       0|\n",
      "+--------+-----+--------+----+-------+------+-------------+----------+--------+\n",
      "\n",
      "Null values:\n",
      "+--------+-----+--------+----+-------+------+-------------+----------+--------+\n",
      "|SaleType|Price|PostCode|City|NbRooms|NbLots|ResidenceType|LivingArea|LandArea|\n",
      "+--------+-----+--------+----+-------+------+-------------+----------+--------+\n",
      "|       0| 1838|       0|   0|      0|     0|            0|         0|       0|\n",
      "+--------+-----+--------+----+-------+------+-------------+----------+--------+\n",
      "\n"
     ]
    }
   ],
   "source": [
    "#from pyspark.sql.functions import col,isnan, when, count\n",
    "check_df = real_estate_without_duplicates_df.drop('SaleDate')\n",
    "\n",
    "print('Missing values (Nan):')\n",
    "check_df.select([count(when(isnan(col), col)).alias(col) for col in check_df.columns]).show()\n",
    "\n",
    "print('Null values:')\n",
    "check_df.select([count(when(col(c).isNull(), c)).alias(c) for c in check_df.columns]).show()\n"
   ]
  },
  {
   "cell_type": "code",
   "execution_count": 15,
   "id": "a77bfe4d-2fd8-4ff1-ba5b-01e95db1c40b",
   "metadata": {},
   "outputs": [
    {
     "name": "stdout",
     "output_type": "stream",
     "text": [
      "+-------+-----------------+\n",
      "|summary|            Price|\n",
      "+-------+-----------------+\n",
      "|   mean|328783.9234061372|\n",
      "+-------+-----------------+\n",
      "\n"
     ]
    }
   ],
   "source": [
    "real_estate_without_duplicates_df[['Price']].summary(\"mean\").show()"
   ]
  },
  {
   "cell_type": "code",
   "execution_count": 16,
   "id": "956453a9-7209-49e8-9ad7-fe3ac86dade8",
   "metadata": {},
   "outputs": [
    {
     "name": "stdout",
     "output_type": "stream",
     "text": [
      "Null values after replacing by the mean:\n",
      "+--------+-----+--------+----+-------+------+-------------+----------+--------+\n",
      "|SaleType|Price|PostCode|City|NbRooms|NbLots|ResidenceType|LivingArea|LandArea|\n",
      "+--------+-----+--------+----+-------+------+-------------+----------+--------+\n",
      "|       0|    0|       0|   0|      0|     0|            0|         0|       0|\n",
      "+--------+-----+--------+----+-------+------+-------------+----------+--------+\n",
      "\n"
     ]
    }
   ],
   "source": [
    "# The average price is 328784 as seen through the summary\n",
    "real_estate_without_null_df = real_estate_without_duplicates_df.fillna(int('328784'),subset=['Price'])\n",
    "\n",
    "new_check_df = real_estate_without_null_df.drop('SaleDate')\n",
    "\n",
    "print('Null values after replacing by the mean:')\n",
    "new_check_df.select([count(when(col(c).isNull(), c)).alias(c) for c in new_check_df.columns]).show()"
   ]
  },
  {
   "cell_type": "code",
   "execution_count": 17,
   "id": "79b4d06b-5d40-4776-bce0-4a0536611770",
   "metadata": {},
   "outputs": [],
   "source": [
    "#real_estate_summary_df = real_estate_df['Price', 'NbRooms', 'NbLots', 'LivingArea', 'LandArea'].summary()\n",
    "#real_estate_summary_df.show()"
   ]
  },
  {
   "cell_type": "markdown",
   "id": "3947c3eb-7860-42ce-8658-a80765fe4bc4",
   "metadata": {},
   "source": [
    "#### Deal with outliers"
   ]
  },
  {
   "cell_type": "code",
   "execution_count": 18,
   "id": "58607b7c-86c6-476c-9598-98f7fd35835e",
   "metadata": {},
   "outputs": [],
   "source": [
    "import seaborn as sns\n",
    "\n",
    "def boxplot(df, box_title):\n",
    "    \"\"\"Plot a boxplot for each numeric column of the dataset.\"\"\"\n",
    "    \n",
    "    n = len(numeric_columns)\n",
    "    i = 1\n",
    "    \n",
    "    \n",
    "    fig = plt.figure(figsize=(18, 5))\n",
    "    fig.suptitle(box_title)\n",
    "    for col in numeric_columns:\n",
    "        fig.add_subplot(int(f'1{n}{i}'))\n",
    "        x = df.select(col).toPandas()\n",
    "        sns.boxplot(data=x)\n",
    "        i = i + 1"
   ]
  },
  {
   "cell_type": "code",
   "execution_count": 19,
   "id": "2084b0df-e2b0-43bc-8ac2-035e735a5a7c",
   "metadata": {},
   "outputs": [
    {
     "data": {
      "image/png": "[encoded data removed]",
      "text/plain": [
       "<Figure size 1296x360 with 5 Axes>"
      ]
     },
     "metadata": {
      "needs_background": "light"
     },
     "output_type": "display_data"
    }
   ],
   "source": [
    "# Identifying the numerical columns and ploting the box-plots\n",
    "\n",
    "numeric_columns = [column[0] for column in real_estate_without_null_df.dtypes if column[1]=='int']\n",
    "boxplot(real_estate_without_null_df, 'Before: Boxplot with outliers')\n",
    "#df[numeric_columns].summary().show()"
   ]
  },
  {
   "cell_type": "code",
   "execution_count": 20,
   "id": "38a96dc2-6bf3-487d-89df-767c4c05c3bd",
   "metadata": {},
   "outputs": [
    {
     "name": "stdout",
     "output_type": "stream",
     "text": [
      "+----------+--------------------+-----+--------+--------+-------+------+-------------+----------+--------+-----+\n",
      "|  SaleDate|            SaleType|Price|PostCode|    City|NbRooms|NbLots|ResidenceType|LivingArea|LandArea|Price|\n",
      "+----------+--------------------+-----+--------+--------+-------+------+-------------+----------+--------+-----+\n",
      "|2015-03-19|SALE BEFORE COMPL...|    0|   31500|TOULOUSE|      3|     2|    APARTMENT|        63|       0|    0|\n",
      "|2019-06-06|                SALE|    1|   31240| L UNION|      3|     0|    APARTMENT|        61|       9|    1|\n",
      "|2018-10-18|                SALE|    1|   31100|TOULOUSE|      2|     0|    APARTMENT|        56|     423|    1|\n",
      "|2019-06-06|                SALE|    1|   31240| L UNION|      3|     0|    APARTMENT|        59|       9|    1|\n",
      "|2018-10-18|                SALE|    1|   31100|TOULOUSE|      6|     0|    APARTMENT|       147|     423|    1|\n",
      "+----------+--------------------+-----+--------+--------+-------+------+-------------+----------+--------+-----+\n",
      "only showing top 5 rows\n",
      "\n"
     ]
    }
   ],
   "source": [
    "# Prices are positive figures... But still there are outliers. For example prices below €100:\n",
    "\n",
    "real_estate_without_null_df.createOrReplaceTempView('real_estate')\n",
    "real_estate_price_outliers_df = spark.sql(\" SELECT *, Price FROM real_estate WHERE Price < 100 \")\n",
    "real_estate_price_outliers_df.show(5)"
   ]
  },
  {
   "cell_type": "markdown",
   "id": "2a1dad49-0e2b-4fd2-a6e3-fe7ade428559",
   "metadata": {},
   "source": [
    "**Observation:** We can see that the price of some residencies is '0' or '1'. This is not possible. So we can say those are outliers, there will be removed."
   ]
  },
  {
   "cell_type": "code",
   "execution_count": 21,
   "id": "f0848d5f-fb09-4e4f-b852-14a7e53176c8",
   "metadata": {},
   "outputs": [
    {
     "name": "stdout",
     "output_type": "stream",
     "text": [
      "Price : Q1 = 120500.0, Q3 = 274293.0, IQR = 153793.0, lower 1% = 45000.0, max = 504982.5\n",
      "\n",
      "Regarding the Price, 5740 outliers will be removed: this represents 8.0% of the rows.\n"
     ]
    }
   ],
   "source": [
    "#Removing price outliers \n",
    "\n",
    "col_price = numeric_columns[0]\n",
    "\n",
    "# Identifying lower and upper price limits to keep 95% of the dataset.\n",
    "# Since prices are above 0, we'll remove 1% of the lower prices to avoid\n",
    "# having prices such as €0 or €1.\n",
    "\n",
    "Q1 = real_estate_without_null_df.approxQuantile(col_price,[0.25],relativeError=0)[0]\n",
    "Q3 = real_estate_without_null_df.approxQuantile(col_price,[0.75],relativeError=0)[0]\n",
    "percentile_1 = real_estate_without_null_df.approxQuantile(col_price,[0.01],relativeError=0)[0]\n",
    "\n",
    "IQR = Q3 - Q1\n",
    "\n",
    "lower_limit = percentile_1 #Noramlly Q1 - 1.5*IQR but since we work with positive figures we'll keep 0 as min bound for outliers\n",
    "upper_limit = Q3 + 1.5*IQR\n",
    "\n",
    "print(f'{col_price} : Q1 = {Q1}, Q3 = {Q3}, IQR = {IQR}, lower 1% = {lower_limit}, max = {upper_limit}\\n')\n",
    "\n",
    "real_estate_without_null_df = real_estate_without_null_df.withColumn('Outlier', f.when((real_estate_without_null_df[col_price] > upper_limit) | (real_estate_without_null_df[col_price] < lower_limit), \"yes\").otherwise(\"no\"))\n",
    "real_estate_price_outliers_df = real_estate_without_null_df.filter(\"Outlier == 'yes'\").count()\n",
    "fraction = np.round(real_estate_price_outliers_df/real_estate_without_null_df.count()*100)\n",
    "print(f'''Regarding the {col_price}, {real_estate_price_outliers_df} outliers will be removed: this represents {fraction}% of the rows.''')"
   ]
  },
  {
   "cell_type": "code",
   "execution_count": 22,
   "id": "aa67eb6d-5df7-40d1-9e79-d2e1cce6c8f6",
   "metadata": {},
   "outputs": [
    {
     "data": {
      "image/png": "[encoded data removed]",
      "text/plain": [
       "<Figure size 1296x360 with 5 Axes>"
      ]
     },
     "metadata": {
      "needs_background": "light"
     },
     "output_type": "display_data"
    }
   ],
   "source": [
    "real_estate_without_outliers_df = real_estate_without_null_df.filter(\"Outlier == 'no'\")\n",
    "boxplot(real_estate_without_outliers_df, 'After: Boxplot without outliers')"
   ]
  },
  {
   "cell_type": "code",
   "execution_count": 23,
   "id": "2e2b9270-14e2-4810-b9a2-ea19d4eebe5e",
   "metadata": {},
   "outputs": [
    {
     "name": "stdout",
     "output_type": "stream",
     "text": [
      "+-------+-----------------+------------------+------------------+------------------+------------------+\n",
      "|summary|            Price|           NbRooms|            NbLots|        LivingArea|          LandArea|\n",
      "+-------+-----------------+------------------+------------------+------------------+------------------+\n",
      "|  count|            66195|             66195|             66195|             66195|             66195|\n",
      "|   mean|193456.6582974545|2.9743636226301082|1.1092076440818792| 65.11955585769319|115.18992371025001|\n",
      "| stddev|97710.79035987232|1.2819650446630886|0.7943657718574154|30.945827264430147| 346.4498381451113|\n",
      "|    min|            45000|                 1|                 0|                 1|                 0|\n",
      "|    25%|           119000|                 2|                 1|                43|                 0|\n",
      "|    50%|           171930|                 3|                 1|                62|                 0|\n",
      "|    75%|           245000|                 4|                 2|                81|                 0|\n",
      "|    max|           504600|                41|                 9|               380|             12255|\n",
      "+-------+-----------------+------------------+------------------+------------------+------------------+\n",
      "\n"
     ]
    }
   ],
   "source": [
    "clean_real_estate_df = real_estate_without_outliers_df.drop('Outlier')\n",
    "clean_real_estate_df['Price', 'NbRooms', 'NbLots', 'LivingArea', 'LandArea'].summary().show()"
   ]
  },
  {
   "cell_type": "markdown",
   "id": "0dda07a8-387a-4210-80a3-34a77d994f5a",
   "metadata": {},
   "source": [
    "**Observation:** The dataset after the cleaning contains 66,195 rows. 10,910 rows where then removed (outliers, duplicates, null...). \n",
    "We can observe that in average, the residences (house, appartments) sold are residences with 3 rooms, 1 lot, 65m² living area and 0m² landing area (median), for an average price of 193,457€."
   ]
  },
  {
   "cell_type": "markdown",
   "id": "2195d13b-6136-4326-a602-028632b7c964",
   "metadata": {},
   "source": [
    "## Exploration of the data - SQL Queries"
   ]
  },
  {
   "cell_type": "markdown",
   "id": "df3dd0b1-bcbb-4680-9958-e28cd9d7b4cb",
   "metadata": {},
   "source": [
    "#### View the tables"
   ]
  },
  {
   "cell_type": "code",
   "execution_count": 24,
   "id": "877b6c49-7c5f-408c-a824-b2bc4f8da997",
   "metadata": {},
   "outputs": [],
   "source": [
    "clean_real_estate_df.createOrReplaceTempView('real_estate')"
   ]
  },
  {
   "cell_type": "code",
   "execution_count": 25,
   "id": "ca9e7b76-378c-4791-ad18-b9f85c5a08a2",
   "metadata": {},
   "outputs": [
    {
     "name": "stdout",
     "output_type": "stream",
     "text": [
      "+----------+--------------------+------+--------+-------------------+-------+------+-------------+----------+--------+\n",
      "|  SaleDate|            SaleType| Price|PostCode|               City|NbRooms|NbLots|ResidenceType|LivingArea|LandArea|\n",
      "+----------+--------------------+------+--------+-------------------+-------+------+-------------+----------+--------+\n",
      "|2018-06-29|SALE BEFORE COMPL...|285900|   31270|VILLENEUVE TOLOSANE|      4|     1|    APARTMENT|        86|       0|\n",
      "|2018-07-10|                SALE|274500|   31270|VILLENEUVE TOLOSANE|      9|     0|        HOUSE|       187|     621|\n",
      "|2018-09-20|                SALE|185650|   31270|VILLENEUVE TOLOSANE|      4|     0|        HOUSE|        80|     231|\n",
      "|2017-10-09|                SALE|244900|   31270|VILLENEUVE TOLOSANE|      4|     0|        HOUSE|        87|     314|\n",
      "|2017-12-27|                SALE|200000|   31270|VILLENEUVE TOLOSANE|      3|     0|        HOUSE|        63|     494|\n",
      "|2016-12-23|SALE BEFORE COMPL...|160000|   31270|VILLENEUVE TOLOSANE|      2|     3|    APARTMENT|        46|       0|\n",
      "|2015-04-29|SALE BEFORE COMPL...|181840|   31270|VILLENEUVE TOLOSANE|      3|     3|    APARTMENT|        65|       0|\n",
      "|2015-05-15|                SALE|321920|   31270|VILLENEUVE TOLOSANE|      4|     0|        HOUSE|       128|     789|\n",
      "|2015-06-05|SALE BEFORE COMPL...|158000|   31270|VILLENEUVE TOLOSANE|      2|     0|        HOUSE|        48|     187|\n",
      "|2017-08-25|                SALE|502000|   31170|      TOURNEFEUILLE|      4|     0|        HOUSE|       114|     500|\n",
      "+----------+--------------------+------+--------+-------------------+-------+------+-------------+----------+--------+\n",
      "only showing top 10 rows\n",
      "\n"
     ]
    }
   ],
   "source": [
    "# Select all the data\n",
    "real_estate_all_df = spark.sql(\"SELECT * FROM real_estate\")\n",
    "real_estate_all_df.show(10)"
   ]
  },
  {
   "cell_type": "code",
   "execution_count": 26,
   "id": "1e4ff7c2-535e-4b2b-9a7a-98e5d33b5f5a",
   "metadata": {},
   "outputs": [],
   "source": [
    "# Count the rows\n",
    "# spark.sql(\"SELECT COUNT(*) AS NbRows FROM real_estate\").show()"
   ]
  },
  {
   "cell_type": "markdown",
   "id": "6fff228a-8ef4-4b8f-ae62-94ee243a559b",
   "metadata": {},
   "source": [
    "### Descriptive statistics"
   ]
  },
  {
   "cell_type": "code",
   "execution_count": 27,
   "id": "00622df5-5e8b-4be9-85b8-2e96b64f3acd",
   "metadata": {},
   "outputs": [],
   "source": [
    "real_estate_sales_evolution_df = spark.sql(\"\"\"SELECT \n",
    "                                                SaleDate as sales_date, \n",
    "                                                round(count(ResidenceType)) as sales_volume,\n",
    "                                                round(avg(Price)) as mean_price\n",
    "                                            FROM real_estate WHERE City != 'TOULOUSE' GROUP BY SaleDate ORDER BY SaleDate\"\"\").toPandas()\n",
    "\n",
    "real_estate_toulouse_sales_evolution_df = spark.sql(\"\"\"SELECT \n",
    "                                                SaleDate as sales_date, \n",
    "                                                round(count(ResidenceType)) as sales_volume,\n",
    "                                                round(avg(Price)) as mean_price\n",
    "                                            FROM real_estate WHERE City = 'TOULOUSE' GROUP BY SaleDate ORDER BY SaleDate\"\"\").toPandas()"
   ]
  },
  {
   "cell_type": "code",
   "execution_count": 28,
   "id": "a85f9213-f01f-47a3-af64-2efa60da08df",
   "metadata": {},
   "outputs": [
    {
     "data": {
      "text/html": [
       "<div>\n",
       "<style scoped>\n",
       "    .dataframe tbody tr th:only-of-type {\n",
       "        vertical-align: middle;\n",
       "    }\n",
       "\n",
       "    .dataframe tbody tr th {\n",
       "        vertical-align: top;\n",
       "    }\n",
       "\n",
       "    .dataframe thead th {\n",
       "        text-align: right;\n",
       "    }\n",
       "</style>\n",
       "<table border=\"1\" class=\"dataframe\">\n",
       "  <thead>\n",
       "    <tr style=\"text-align: right;\">\n",
       "      <th></th>\n",
       "      <th>sales_date</th>\n",
       "      <th>sales_volume</th>\n",
       "      <th>mean_price</th>\n",
       "    </tr>\n",
       "  </thead>\n",
       "  <tbody>\n",
       "    <tr>\n",
       "      <th>0</th>\n",
       "      <td>2015-01-02</td>\n",
       "      <td>1</td>\n",
       "      <td>117000.0</td>\n",
       "    </tr>\n",
       "    <tr>\n",
       "      <th>1</th>\n",
       "      <td>2015-01-04</td>\n",
       "      <td>1</td>\n",
       "      <td>400000.0</td>\n",
       "    </tr>\n",
       "    <tr>\n",
       "      <th>2</th>\n",
       "      <td>2015-01-05</td>\n",
       "      <td>9</td>\n",
       "      <td>227327.0</td>\n",
       "    </tr>\n",
       "    <tr>\n",
       "      <th>3</th>\n",
       "      <td>2015-01-06</td>\n",
       "      <td>13</td>\n",
       "      <td>237398.0</td>\n",
       "    </tr>\n",
       "    <tr>\n",
       "      <th>4</th>\n",
       "      <td>2015-01-07</td>\n",
       "      <td>13</td>\n",
       "      <td>194332.0</td>\n",
       "    </tr>\n",
       "  </tbody>\n",
       "</table>\n",
       "</div>"
      ],
      "text/plain": [
       "   sales_date  sales_volume  mean_price\n",
       "0  2015-01-02             1    117000.0\n",
       "1  2015-01-04             1    400000.0\n",
       "2  2015-01-05             9    227327.0\n",
       "3  2015-01-06            13    237398.0\n",
       "4  2015-01-07            13    194332.0"
      ]
     },
     "execution_count": 28,
     "metadata": {},
     "output_type": "execute_result"
    }
   ],
   "source": [
    "real_estate_sales_evolution_df.head()"
   ]
  },
  {
   "cell_type": "code",
   "execution_count": 29,
   "id": "bcb1b7ff-d46c-467d-b848-9348081ae03c",
   "metadata": {},
   "outputs": [],
   "source": [
    "def times_series_plot(ax, df, num_col, time_letter, plot_title, color):\n",
    "    \"\"\"Resampling the data to plot times series for the choosen period.\"\"\"\n",
    "    ax.plot(df.iloc[:, [0, num_col]].set_index('sales_date').resample(time_letter).mean(), color)\n",
    "    ax.set_title(plot_title)"
   ]
  },
  {
   "cell_type": "code",
   "execution_count": 30,
   "id": "80fc11fe-c695-45c4-b4c4-9edd647a4756",
   "metadata": {},
   "outputs": [],
   "source": [
    "# Let's make sure 'date' is actually a date in pandas\n",
    "real_estate_sales_evolution_df[\"sales_date\"] = pd.to_datetime(real_estate_sales_evolution_df[\"sales_date\"])\n",
    "real_estate_toulouse_sales_evolution_df[\"sales_date\"] = pd.to_datetime(real_estate_toulouse_sales_evolution_df[\"sales_date\"])"
   ]
  },
  {
   "cell_type": "code",
   "execution_count": null,
   "id": "3aff12fe-28cd-41d7-8469-6ca4c1fd39b8",
   "metadata": {},
   "outputs": [],
   "source": [
    "# Plot the daily sales of all cities (not considering Toulouse)\n",
    "\n",
    "#date = real_estate_sales_evolution_df[\"sales_date\"]\n",
    "#sales = real_estate_sales_evolution_df[\"sales_volume\"]\n",
    "#price = real_estate_sales_evolution_df[\"mean_price\"]\n",
    "\n",
    "# fig, ax = plt.subplots(figsize=(30, 6))\n",
    "# ax.plot(date, sales)\n",
    "\n",
    "# Plot the average price evolution (daily)\n",
    "# fig, ax = plt.subplots(figsize=(30, 6))\n",
    "# ax.plot(date, price);"
   ]
  },
  {
   "cell_type": "code",
   "execution_count": 31,
   "id": "3264121c-2b0d-4b81-9f1c-2addeb398379",
   "metadata": {},
   "outputs": [
    {
     "data": {
      "image/png": "[encoded data removed]",
      "text/plain": [
       "<Figure size 2160x432 with 2 Axes>"
      ]
     },
     "metadata": {
      "needs_background": "light"
     },
     "output_type": "display_data"
    }
   ],
   "source": [
    "# Sales evolution\n",
    "fig, (ax1, ax2) = plt.subplots(1, 2, figsize=(30,6))\n",
    "plt.suptitle('Evolution of sales in Toulouse (black) and its suburbs (orange)')\n",
    "\n",
    "times_series_plot(ax1, real_estate_sales_evolution_df, 1, 'M', 'Monthly sales evolution since 2015', 'darkorange')\n",
    "times_series_plot(ax2, real_estate_sales_evolution_df, 1, 'Y', 'Yearly sales evolution since 2015', 'darkorange')\n",
    "\n",
    "times_series_plot(ax1, real_estate_toulouse_sales_evolution_df, 1, 'M', 'Monthly sales evolution since 2015', 'black')\n",
    "times_series_plot(ax2, real_estate_toulouse_sales_evolution_df, 1, 'Y', 'Yearly sales evolution since 2015', 'black')"
   ]
  },
  {
   "cell_type": "markdown",
   "id": "e3132d85-6db6-4cc1-a53c-b237718a809f",
   "metadata": {},
   "source": [
    "**Observation:** There is seasonality. Indeed, the same pattern seems to repeat itself each year : few sales in the first part of the year, three peaks in march, july and december and a constant increase until the end of the year. However, the overall volumes of sales is decresing since 2018."
   ]
  },
  {
   "cell_type": "code",
   "execution_count": 32,
   "id": "fd2ac482-4ead-4e65-84a8-a620e694ebab",
   "metadata": {},
   "outputs": [
    {
     "data": {
      "image/png": "[encoded data removed]",
      "text/plain": [
       "<Figure size 2160x360 with 2 Axes>"
      ]
     },
     "metadata": {
      "needs_background": "light"
     },
     "output_type": "display_data"
    }
   ],
   "source": [
    "# Price evolution\n",
    "fig, (ax1, ax2) = plt.subplots(1, 2, figsize=(30,5))\n",
    "plt.suptitle('Evolution of average price in Toulouse (black) and its suburbs (green)')\n",
    "\n",
    "times_series_plot(ax1, real_estate_sales_evolution_df, 2, 'M', 'Monthly price evolution since 2015', 'green')\n",
    "times_series_plot(ax2, real_estate_sales_evolution_df, 2, 'Y', 'Yearly price evolution since 2015', 'green')\n",
    "\n",
    "\n",
    "times_series_plot(ax1, real_estate_toulouse_sales_evolution_df, 2, 'M', 'Monthly price evolution since 2015', 'black')\n",
    "times_series_plot(ax2, real_estate_toulouse_sales_evolution_df, 2, 'Y', 'Yearly price evolution since 2015', 'black')"
   ]
  },
  {
   "cell_type": "markdown",
   "id": "7ebd2a46-99e5-4483-b4d6-5aa7f7783994",
   "metadata": {},
   "source": [
    "### Quick overview of the cities"
   ]
  },
  {
   "cell_type": "code",
   "execution_count": 33,
   "id": "91d4d9af-91b1-4d90-9cbe-307113d601db",
   "metadata": {},
   "outputs": [
    {
     "name": "stdout",
     "output_type": "stream",
     "text": [
      "There are 26 distinct cities.\n"
     ]
    }
   ],
   "source": [
    "# Select distinct city\n",
    "\n",
    "real_estate_distinct_city_df = real_estate_all_df.select('City').distinct().count()\n",
    "print(f'There are {real_estate_distinct_city_df} distinct cities.')"
   ]
  },
  {
   "cell_type": "code",
   "execution_count": 34,
   "id": "2e6c3ce2-1374-42de-aca8-04793ebc6b82",
   "metadata": {},
   "outputs": [],
   "source": [
    "# Quick overview of these 26 cities \n",
    "\n",
    "# Focus overview : Apartment\n",
    "real_estate_overview_apartment_df = spark.sql(\"\"\"SELECT \n",
    "                                                    ResidenceType as residence_type,\n",
    "                                                    City as city,\n",
    "                                                    CONCAT(CAST(round(avg(Price)) AS VARCHAR(15)), '€') as ap_mean_price,\n",
    "                                                    CONCAT(CAST(round(avg(Price)/avg(LivingArea)) AS VARCHAR(15)), '€') as ap_mean_m2_price,\n",
    "                                                    round(count(ResidenceType)) as a_sales_volume,\n",
    "                                                    round(avg(NbRooms)) as ap_mean_rooms,\n",
    "                                                    round(avg(NbLots)) as ap_mean_lots,\n",
    "                                                    round(avg(LivingArea)) as ap_mean_living_area,\n",
    "                                                    round(avg(LandArea)) as ap_mean_land_area\n",
    "                                                FROM real_estate \n",
    "                                                WHERE ResidenceType = 'APARTMENT'\n",
    "                                                GROUP BY City, ResidenceType\n",
    "                                                ORDER BY City\"\"\")\n",
    "# Focus overview : House\n",
    "real_estate_overview_house_df = spark.sql(\"\"\"SELECT \n",
    "                                                ResidenceType as residence_type,\n",
    "                                                City as city,\n",
    "                                                CONCAT(CAST(round(avg(Price)) AS VARCHAR(15)), '€') as h_mean_price,\n",
    "                                                CONCAT(CAST(round(avg(Price/LivingArea)) AS VARCHAR(15)), '€') as h_mean_m2_price,\n",
    "                                                round(count(ResidenceType)) as h_sales_volume,\n",
    "                                                round(avg(NbRooms)) as h_mean_rooms,\n",
    "                                                round(avg(NbLots)) as h_mean_lots,\n",
    "                                                round(avg(LivingArea)) as h_mean_living_area,\n",
    "                                                round(avg(LandArea)) as h_mean_land_area\n",
    "                                            FROM real_estate \n",
    "                                            WHERE ResidenceType = 'HOUSE'\n",
    "                                            GROUP BY ResidenceType, City\n",
    "                                            ORDER BY City\"\"\")\n",
    "real_estate_overview_apartment_df = real_estate_overview_apartment_df.toPandas()\n",
    "real_estate_overview_house_df = real_estate_overview_house_df.toPandas()"
   ]
  },
  {
   "cell_type": "code",
   "execution_count": 35,
   "id": "5218aaa4-b2dc-4a76-975a-761eea33160b",
   "metadata": {},
   "outputs": [
    {
     "data": {
      "text/html": [
       "<div>\n",
       "<style scoped>\n",
       "    .dataframe tbody tr th:only-of-type {\n",
       "        vertical-align: middle;\n",
       "    }\n",
       "\n",
       "    .dataframe tbody tr th {\n",
       "        vertical-align: top;\n",
       "    }\n",
       "\n",
       "    .dataframe thead th {\n",
       "        text-align: right;\n",
       "    }\n",
       "</style>\n",
       "<table border=\"1\" class=\"dataframe\">\n",
       "  <thead>\n",
       "    <tr style=\"text-align: right;\">\n",
       "      <th></th>\n",
       "      <th>residence_type</th>\n",
       "      <th>city</th>\n",
       "      <th>ap_mean_price</th>\n",
       "      <th>ap_mean_m2_price</th>\n",
       "      <th>a_sales_volume</th>\n",
       "      <th>ap_mean_rooms</th>\n",
       "      <th>ap_mean_lots</th>\n",
       "      <th>ap_mean_living_area</th>\n",
       "      <th>ap_mean_land_area</th>\n",
       "      <th>residence_type</th>\n",
       "      <th>city</th>\n",
       "      <th>h_mean_price</th>\n",
       "      <th>h_mean_m2_price</th>\n",
       "      <th>h_sales_volume</th>\n",
       "      <th>h_mean_rooms</th>\n",
       "      <th>h_mean_lots</th>\n",
       "      <th>h_mean_living_area</th>\n",
       "      <th>h_mean_land_area</th>\n",
       "    </tr>\n",
       "  </thead>\n",
       "  <tbody>\n",
       "    <tr>\n",
       "      <th>0</th>\n",
       "      <td>APARTMENT</td>\n",
       "      <td>VIEILLE TOULOUSE</td>\n",
       "      <td>440000.0€</td>\n",
       "      <td>11000.0€</td>\n",
       "      <td>2</td>\n",
       "      <td>2.0</td>\n",
       "      <td>0.0</td>\n",
       "      <td>40.0</td>\n",
       "      <td>870.0</td>\n",
       "      <td>HOUSE</td>\n",
       "      <td>VIEILLE TOULOUSE</td>\n",
       "      <td>372716.0€</td>\n",
       "      <td>2832.0€</td>\n",
       "      <td>43</td>\n",
       "      <td>5.0</td>\n",
       "      <td>0.0</td>\n",
       "      <td>143.0</td>\n",
       "      <td>2034.0</td>\n",
       "    </tr>\n",
       "    <tr>\n",
       "      <th>1</th>\n",
       "      <td>APARTMENT</td>\n",
       "      <td>LABEGE</td>\n",
       "      <td>247838.0€</td>\n",
       "      <td>3857.0€</td>\n",
       "      <td>47</td>\n",
       "      <td>3.0</td>\n",
       "      <td>2.0</td>\n",
       "      <td>64.0</td>\n",
       "      <td>95.0</td>\n",
       "      <td>HOUSE</td>\n",
       "      <td>LABEGE</td>\n",
       "      <td>323244.0€</td>\n",
       "      <td>2898.0€</td>\n",
       "      <td>84</td>\n",
       "      <td>4.0</td>\n",
       "      <td>0.0</td>\n",
       "      <td>117.0</td>\n",
       "      <td>709.0</td>\n",
       "    </tr>\n",
       "    <tr>\n",
       "      <th>2</th>\n",
       "      <td>APARTMENT</td>\n",
       "      <td>AUZEVILLE-TOLOSANE</td>\n",
       "      <td>209552.0€</td>\n",
       "      <td>3180.0€</td>\n",
       "      <td>102</td>\n",
       "      <td>3.0</td>\n",
       "      <td>2.0</td>\n",
       "      <td>66.0</td>\n",
       "      <td>0.0</td>\n",
       "      <td>HOUSE</td>\n",
       "      <td>AUZEVILLE-TOLOSANE</td>\n",
       "      <td>332080.0€</td>\n",
       "      <td>2835.0€</td>\n",
       "      <td>87</td>\n",
       "      <td>5.0</td>\n",
       "      <td>0.0</td>\n",
       "      <td>122.0</td>\n",
       "      <td>670.0</td>\n",
       "    </tr>\n",
       "    <tr>\n",
       "      <th>3</th>\n",
       "      <td>APARTMENT</td>\n",
       "      <td>QUINT-FONSEGRIVES</td>\n",
       "      <td>195697.0€</td>\n",
       "      <td>3368.0€</td>\n",
       "      <td>205</td>\n",
       "      <td>3.0</td>\n",
       "      <td>1.0</td>\n",
       "      <td>58.0</td>\n",
       "      <td>14.0</td>\n",
       "      <td>HOUSE</td>\n",
       "      <td>QUINT-FONSEGRIVES</td>\n",
       "      <td>304841.0€</td>\n",
       "      <td>3063.0€</td>\n",
       "      <td>167</td>\n",
       "      <td>4.0</td>\n",
       "      <td>0.0</td>\n",
       "      <td>104.0</td>\n",
       "      <td>541.0</td>\n",
       "    </tr>\n",
       "    <tr>\n",
       "      <th>4</th>\n",
       "      <td>APARTMENT</td>\n",
       "      <td>BALMA</td>\n",
       "      <td>195500.0€</td>\n",
       "      <td>3105.0€</td>\n",
       "      <td>832</td>\n",
       "      <td>3.0</td>\n",
       "      <td>1.0</td>\n",
       "      <td>63.0</td>\n",
       "      <td>18.0</td>\n",
       "      <td>HOUSE</td>\n",
       "      <td>BALMA</td>\n",
       "      <td>340393.0€</td>\n",
       "      <td>3261.0€</td>\n",
       "      <td>365</td>\n",
       "      <td>5.0</td>\n",
       "      <td>0.0</td>\n",
       "      <td>110.0</td>\n",
       "      <td>455.0</td>\n",
       "    </tr>\n",
       "    <tr>\n",
       "      <th>5</th>\n",
       "      <td>APARTMENT</td>\n",
       "      <td>L UNION</td>\n",
       "      <td>193358.0€</td>\n",
       "      <td>3485.0€</td>\n",
       "      <td>353</td>\n",
       "      <td>3.0</td>\n",
       "      <td>1.0</td>\n",
       "      <td>55.0</td>\n",
       "      <td>21.0</td>\n",
       "      <td>HOUSE</td>\n",
       "      <td>L UNION</td>\n",
       "      <td>287504.0€</td>\n",
       "      <td>2865.0€</td>\n",
       "      <td>473</td>\n",
       "      <td>5.0</td>\n",
       "      <td>0.0</td>\n",
       "      <td>103.0</td>\n",
       "      <td>535.0</td>\n",
       "    </tr>\n",
       "    <tr>\n",
       "      <th>6</th>\n",
       "      <td>APARTMENT</td>\n",
       "      <td>BEAUZELLE</td>\n",
       "      <td>191236.0€</td>\n",
       "      <td>3230.0€</td>\n",
       "      <td>392</td>\n",
       "      <td>3.0</td>\n",
       "      <td>2.0</td>\n",
       "      <td>59.0</td>\n",
       "      <td>14.0</td>\n",
       "      <td>HOUSE</td>\n",
       "      <td>BEAUZELLE</td>\n",
       "      <td>284750.0€</td>\n",
       "      <td>2980.0€</td>\n",
       "      <td>184</td>\n",
       "      <td>4.0</td>\n",
       "      <td>0.0</td>\n",
       "      <td>99.0</td>\n",
       "      <td>563.0</td>\n",
       "    </tr>\n",
       "    <tr>\n",
       "      <th>7</th>\n",
       "      <td>APARTMENT</td>\n",
       "      <td>CASTANET TOLOSAN</td>\n",
       "      <td>185947.0€</td>\n",
       "      <td>3173.0€</td>\n",
       "      <td>859</td>\n",
       "      <td>3.0</td>\n",
       "      <td>2.0</td>\n",
       "      <td>59.0</td>\n",
       "      <td>15.0</td>\n",
       "      <td>HOUSE</td>\n",
       "      <td>CASTANET TOLOSAN</td>\n",
       "      <td>307328.0€</td>\n",
       "      <td>2829.0€</td>\n",
       "      <td>295</td>\n",
       "      <td>5.0</td>\n",
       "      <td>0.0</td>\n",
       "      <td>114.0</td>\n",
       "      <td>651.0</td>\n",
       "    </tr>\n",
       "    <tr>\n",
       "      <th>8</th>\n",
       "      <td>APARTMENT</td>\n",
       "      <td>TOURNEFEUILLE</td>\n",
       "      <td>185531.0€</td>\n",
       "      <td>3402.0€</td>\n",
       "      <td>1273</td>\n",
       "      <td>3.0</td>\n",
       "      <td>2.0</td>\n",
       "      <td>55.0</td>\n",
       "      <td>6.0</td>\n",
       "      <td>HOUSE</td>\n",
       "      <td>TOURNEFEUILLE</td>\n",
       "      <td>318236.0€</td>\n",
       "      <td>3009.0€</td>\n",
       "      <td>886</td>\n",
       "      <td>5.0</td>\n",
       "      <td>0.0</td>\n",
       "      <td>109.0</td>\n",
       "      <td>585.0</td>\n",
       "    </tr>\n",
       "    <tr>\n",
       "      <th>9</th>\n",
       "      <td>APARTMENT</td>\n",
       "      <td>SAINT-JEAN</td>\n",
       "      <td>183268.0€</td>\n",
       "      <td>3314.0€</td>\n",
       "      <td>557</td>\n",
       "      <td>3.0</td>\n",
       "      <td>1.0</td>\n",
       "      <td>55.0</td>\n",
       "      <td>59.0</td>\n",
       "      <td>HOUSE</td>\n",
       "      <td>SAINT-JEAN</td>\n",
       "      <td>277069.0€</td>\n",
       "      <td>2741.0€</td>\n",
       "      <td>458</td>\n",
       "      <td>5.0</td>\n",
       "      <td>0.0</td>\n",
       "      <td>103.0</td>\n",
       "      <td>441.0</td>\n",
       "    </tr>\n",
       "    <tr>\n",
       "      <th>10</th>\n",
       "      <td>APARTMENT</td>\n",
       "      <td>BLAGNAC</td>\n",
       "      <td>181753.0€</td>\n",
       "      <td>3102.0€</td>\n",
       "      <td>1671</td>\n",
       "      <td>3.0</td>\n",
       "      <td>2.0</td>\n",
       "      <td>59.0</td>\n",
       "      <td>30.0</td>\n",
       "      <td>HOUSE</td>\n",
       "      <td>BLAGNAC</td>\n",
       "      <td>280937.0€</td>\n",
       "      <td>3127.0€</td>\n",
       "      <td>529</td>\n",
       "      <td>4.0</td>\n",
       "      <td>0.0</td>\n",
       "      <td>93.0</td>\n",
       "      <td>328.0</td>\n",
       "    </tr>\n",
       "    <tr>\n",
       "      <th>11</th>\n",
       "      <td>APARTMENT</td>\n",
       "      <td>VILLENEUVE TOLOSANE</td>\n",
       "      <td>181664.0€</td>\n",
       "      <td>3119.0€</td>\n",
       "      <td>233</td>\n",
       "      <td>3.0</td>\n",
       "      <td>1.0</td>\n",
       "      <td>58.0</td>\n",
       "      <td>41.0</td>\n",
       "      <td>HOUSE</td>\n",
       "      <td>VILLENEUVE TOLOSANE</td>\n",
       "      <td>234438.0€</td>\n",
       "      <td>2503.0€</td>\n",
       "      <td>358</td>\n",
       "      <td>4.0</td>\n",
       "      <td>0.0</td>\n",
       "      <td>97.0</td>\n",
       "      <td>472.0</td>\n",
       "    </tr>\n",
       "    <tr>\n",
       "      <th>12</th>\n",
       "      <td>APARTMENT</td>\n",
       "      <td>SAINT-ORENS-DE-GAMEVILLE</td>\n",
       "      <td>179258.0€</td>\n",
       "      <td>3126.0€</td>\n",
       "      <td>588</td>\n",
       "      <td>3.0</td>\n",
       "      <td>2.0</td>\n",
       "      <td>57.0</td>\n",
       "      <td>12.0</td>\n",
       "      <td>HOUSE</td>\n",
       "      <td>SAINT-ORENS-DE-GAMEVILLE</td>\n",
       "      <td>288603.0€</td>\n",
       "      <td>2857.0€</td>\n",
       "      <td>483</td>\n",
       "      <td>5.0</td>\n",
       "      <td>0.0</td>\n",
       "      <td>104.0</td>\n",
       "      <td>504.0</td>\n",
       "    </tr>\n",
       "    <tr>\n",
       "      <th>13</th>\n",
       "      <td>APARTMENT</td>\n",
       "      <td>CORNEBARRIEU</td>\n",
       "      <td>176515.0€</td>\n",
       "      <td>3124.0€</td>\n",
       "      <td>227</td>\n",
       "      <td>3.0</td>\n",
       "      <td>1.0</td>\n",
       "      <td>57.0</td>\n",
       "      <td>33.0</td>\n",
       "      <td>HOUSE</td>\n",
       "      <td>CORNEBARRIEU</td>\n",
       "      <td>241667.0€</td>\n",
       "      <td>2599.0€</td>\n",
       "      <td>376</td>\n",
       "      <td>4.0</td>\n",
       "      <td>0.0</td>\n",
       "      <td>96.0</td>\n",
       "      <td>484.0</td>\n",
       "    </tr>\n",
       "    <tr>\n",
       "      <th>14</th>\n",
       "      <td>APARTMENT</td>\n",
       "      <td>RAMONVILLE-SAINT-AGNE</td>\n",
       "      <td>167980.0€</td>\n",
       "      <td>2739.0€</td>\n",
       "      <td>905</td>\n",
       "      <td>3.0</td>\n",
       "      <td>1.0</td>\n",
       "      <td>61.0</td>\n",
       "      <td>9.0</td>\n",
       "      <td>HOUSE</td>\n",
       "      <td>RAMONVILLE-SAINT-AGNE</td>\n",
       "      <td>315987.0€</td>\n",
       "      <td>3031.0€</td>\n",
       "      <td>219</td>\n",
       "      <td>5.0</td>\n",
       "      <td>0.0</td>\n",
       "      <td>109.0</td>\n",
       "      <td>546.0</td>\n",
       "    </tr>\n",
       "    <tr>\n",
       "      <th>15</th>\n",
       "      <td>APARTMENT</td>\n",
       "      <td>TOULOUSE</td>\n",
       "      <td>167885.0€</td>\n",
       "      <td>3100.0€</td>\n",
       "      <td>38347</td>\n",
       "      <td>3.0</td>\n",
       "      <td>1.0</td>\n",
       "      <td>54.0</td>\n",
       "      <td>16.0</td>\n",
       "      <td>HOUSE</td>\n",
       "      <td>TOULOUSE</td>\n",
       "      <td>289412.0€</td>\n",
       "      <td>3296.0€</td>\n",
       "      <td>4859</td>\n",
       "      <td>4.0</td>\n",
       "      <td>0.0</td>\n",
       "      <td>94.0</td>\n",
       "      <td>299.0</td>\n",
       "    </tr>\n",
       "    <tr>\n",
       "      <th>16</th>\n",
       "      <td>APARTMENT</td>\n",
       "      <td>PORTET SUR GARONNE</td>\n",
       "      <td>164125.0€</td>\n",
       "      <td>2790.0€</td>\n",
       "      <td>184</td>\n",
       "      <td>3.0</td>\n",
       "      <td>1.0</td>\n",
       "      <td>59.0</td>\n",
       "      <td>99.0</td>\n",
       "      <td>HOUSE</td>\n",
       "      <td>PORTET SUR GARONNE</td>\n",
       "      <td>230324.0€</td>\n",
       "      <td>2469.0€</td>\n",
       "      <td>353</td>\n",
       "      <td>4.0</td>\n",
       "      <td>0.0</td>\n",
       "      <td>99.0</td>\n",
       "      <td>516.0</td>\n",
       "    </tr>\n",
       "    <tr>\n",
       "      <th>17</th>\n",
       "      <td>APARTMENT</td>\n",
       "      <td>ESCALQUENS</td>\n",
       "      <td>163511.0€</td>\n",
       "      <td>2807.0€</td>\n",
       "      <td>139</td>\n",
       "      <td>3.0</td>\n",
       "      <td>1.0</td>\n",
       "      <td>58.0</td>\n",
       "      <td>162.0</td>\n",
       "      <td>HOUSE</td>\n",
       "      <td>ESCALQUENS</td>\n",
       "      <td>303083.0€</td>\n",
       "      <td>2786.0€</td>\n",
       "      <td>189</td>\n",
       "      <td>5.0</td>\n",
       "      <td>0.0</td>\n",
       "      <td>114.0</td>\n",
       "      <td>627.0</td>\n",
       "    </tr>\n",
       "    <tr>\n",
       "      <th>18</th>\n",
       "      <td>APARTMENT</td>\n",
       "      <td>CUGNAUX</td>\n",
       "      <td>163408.0€</td>\n",
       "      <td>2817.0€</td>\n",
       "      <td>953</td>\n",
       "      <td>3.0</td>\n",
       "      <td>2.0</td>\n",
       "      <td>58.0</td>\n",
       "      <td>22.0</td>\n",
       "      <td>HOUSE</td>\n",
       "      <td>CUGNAUX</td>\n",
       "      <td>259260.0€</td>\n",
       "      <td>2760.0€</td>\n",
       "      <td>722</td>\n",
       "      <td>4.0</td>\n",
       "      <td>0.0</td>\n",
       "      <td>98.0</td>\n",
       "      <td>420.0</td>\n",
       "    </tr>\n",
       "    <tr>\n",
       "      <th>19</th>\n",
       "      <td>APARTMENT</td>\n",
       "      <td>COLOMIERS</td>\n",
       "      <td>160188.0€</td>\n",
       "      <td>2668.0€</td>\n",
       "      <td>1663</td>\n",
       "      <td>3.0</td>\n",
       "      <td>1.0</td>\n",
       "      <td>60.0</td>\n",
       "      <td>15.0</td>\n",
       "      <td>HOUSE</td>\n",
       "      <td>COLOMIERS</td>\n",
       "      <td>264267.0€</td>\n",
       "      <td>2719.0€</td>\n",
       "      <td>921</td>\n",
       "      <td>4.0</td>\n",
       "      <td>0.0</td>\n",
       "      <td>100.0</td>\n",
       "      <td>419.0</td>\n",
       "    </tr>\n",
       "    <tr>\n",
       "      <th>20</th>\n",
       "      <td>APARTMENT</td>\n",
       "      <td>PIBRAC</td>\n",
       "      <td>159617.0€</td>\n",
       "      <td>3033.0€</td>\n",
       "      <td>167</td>\n",
       "      <td>3.0</td>\n",
       "      <td>2.0</td>\n",
       "      <td>53.0</td>\n",
       "      <td>33.0</td>\n",
       "      <td>HOUSE</td>\n",
       "      <td>PIBRAC</td>\n",
       "      <td>319253.0€</td>\n",
       "      <td>2900.0€</td>\n",
       "      <td>299</td>\n",
       "      <td>5.0</td>\n",
       "      <td>0.0</td>\n",
       "      <td>115.0</td>\n",
       "      <td>740.0</td>\n",
       "    </tr>\n",
       "    <tr>\n",
       "      <th>21</th>\n",
       "      <td>APARTMENT</td>\n",
       "      <td>LEGUEVIN</td>\n",
       "      <td>144444.0€</td>\n",
       "      <td>2630.0€</td>\n",
       "      <td>283</td>\n",
       "      <td>3.0</td>\n",
       "      <td>1.0</td>\n",
       "      <td>55.0</td>\n",
       "      <td>40.0</td>\n",
       "      <td>HOUSE</td>\n",
       "      <td>LEGUEVIN</td>\n",
       "      <td>254132.0€</td>\n",
       "      <td>2516.0€</td>\n",
       "      <td>360</td>\n",
       "      <td>4.0</td>\n",
       "      <td>0.0</td>\n",
       "      <td>103.0</td>\n",
       "      <td>639.0</td>\n",
       "    </tr>\n",
       "    <tr>\n",
       "      <th>22</th>\n",
       "      <td>APARTMENT</td>\n",
       "      <td>FENOUILLET</td>\n",
       "      <td>137472.0€</td>\n",
       "      <td>2445.0€</td>\n",
       "      <td>196</td>\n",
       "      <td>3.0</td>\n",
       "      <td>1.0</td>\n",
       "      <td>56.0</td>\n",
       "      <td>42.0</td>\n",
       "      <td>HOUSE</td>\n",
       "      <td>FENOUILLET</td>\n",
       "      <td>241681.0€</td>\n",
       "      <td>2483.0€</td>\n",
       "      <td>169</td>\n",
       "      <td>4.0</td>\n",
       "      <td>0.0</td>\n",
       "      <td>100.0</td>\n",
       "      <td>518.0</td>\n",
       "    </tr>\n",
       "    <tr>\n",
       "      <th>23</th>\n",
       "      <td>APARTMENT</td>\n",
       "      <td>PLAISANCE DU TOUCH</td>\n",
       "      <td>134310.0€</td>\n",
       "      <td>2404.0€</td>\n",
       "      <td>260</td>\n",
       "      <td>3.0</td>\n",
       "      <td>1.0</td>\n",
       "      <td>56.0</td>\n",
       "      <td>26.0</td>\n",
       "      <td>HOUSE</td>\n",
       "      <td>PLAISANCE DU TOUCH</td>\n",
       "      <td>271320.0€</td>\n",
       "      <td>2640.0€</td>\n",
       "      <td>688</td>\n",
       "      <td>4.0</td>\n",
       "      <td>0.0</td>\n",
       "      <td>106.0</td>\n",
       "      <td>666.0</td>\n",
       "    </tr>\n",
       "    <tr>\n",
       "      <th>24</th>\n",
       "      <td>APARTMENT</td>\n",
       "      <td>MURET</td>\n",
       "      <td>126630.0€</td>\n",
       "      <td>2208.0€</td>\n",
       "      <td>568</td>\n",
       "      <td>3.0</td>\n",
       "      <td>1.0</td>\n",
       "      <td>57.0</td>\n",
       "      <td>93.0</td>\n",
       "      <td>HOUSE</td>\n",
       "      <td>MURET</td>\n",
       "      <td>229604.0€</td>\n",
       "      <td>2288.0€</td>\n",
       "      <td>712</td>\n",
       "      <td>4.0</td>\n",
       "      <td>0.0</td>\n",
       "      <td>104.0</td>\n",
       "      <td>713.0</td>\n",
       "    </tr>\n",
       "    <tr>\n",
       "      <th>25</th>\n",
       "      <td>APARTMENT</td>\n",
       "      <td>AUCAMVILLE</td>\n",
       "      <td>124271.0€</td>\n",
       "      <td>2354.0€</td>\n",
       "      <td>610</td>\n",
       "      <td>3.0</td>\n",
       "      <td>1.0</td>\n",
       "      <td>53.0</td>\n",
       "      <td>13.0</td>\n",
       "      <td>HOUSE</td>\n",
       "      <td>AUCAMVILLE</td>\n",
       "      <td>246395.0€</td>\n",
       "      <td>2742.0€</td>\n",
       "      <td>300</td>\n",
       "      <td>4.0</td>\n",
       "      <td>0.0</td>\n",
       "      <td>95.0</td>\n",
       "      <td>364.0</td>\n",
       "    </tr>\n",
       "  </tbody>\n",
       "</table>\n",
       "</div>"
      ],
      "text/plain": [
       "   residence_type                      city ap_mean_price ap_mean_m2_price  \\\n",
       "0       APARTMENT          VIEILLE TOULOUSE     440000.0€         11000.0€   \n",
       "1       APARTMENT                    LABEGE     247838.0€          3857.0€   \n",
       "2       APARTMENT        AUZEVILLE-TOLOSANE     209552.0€          3180.0€   \n",
       "3       APARTMENT         QUINT-FONSEGRIVES     195697.0€          3368.0€   \n",
       "4       APARTMENT                     BALMA     195500.0€          3105.0€   \n",
       "5       APARTMENT                   L UNION     193358.0€          3485.0€   \n",
       "6       APARTMENT                 BEAUZELLE     191236.0€          3230.0€   \n",
       "7       APARTMENT          CASTANET TOLOSAN     185947.0€          3173.0€   \n",
       "8       APARTMENT             TOURNEFEUILLE     185531.0€          3402.0€   \n",
       "9       APARTMENT                SAINT-JEAN     183268.0€          3314.0€   \n",
       "10      APARTMENT                   BLAGNAC     181753.0€          3102.0€   \n",
       "11      APARTMENT       VILLENEUVE TOLOSANE     181664.0€          3119.0€   \n",
       "12      APARTMENT  SAINT-ORENS-DE-GAMEVILLE     179258.0€          3126.0€   \n",
       "13      APARTMENT              CORNEBARRIEU     176515.0€          3124.0€   \n",
       "14      APARTMENT     RAMONVILLE-SAINT-AGNE     167980.0€          2739.0€   \n",
       "15      APARTMENT                  TOULOUSE     167885.0€          3100.0€   \n",
       "16      APARTMENT        PORTET SUR GARONNE     164125.0€          2790.0€   \n",
       "17      APARTMENT                ESCALQUENS     163511.0€          2807.0€   \n",
       "18      APARTMENT                   CUGNAUX     163408.0€          2817.0€   \n",
       "19      APARTMENT                 COLOMIERS     160188.0€          2668.0€   \n",
       "20      APARTMENT                    PIBRAC     159617.0€          3033.0€   \n",
       "21      APARTMENT                  LEGUEVIN     144444.0€          2630.0€   \n",
       "22      APARTMENT                FENOUILLET     137472.0€          2445.0€   \n",
       "23      APARTMENT        PLAISANCE DU TOUCH     134310.0€          2404.0€   \n",
       "24      APARTMENT                     MURET     126630.0€          2208.0€   \n",
       "25      APARTMENT                AUCAMVILLE     124271.0€          2354.0€   \n",
       "\n",
       "    a_sales_volume  ap_mean_rooms  ap_mean_lots  ap_mean_living_area  \\\n",
       "0                2            2.0           0.0                 40.0   \n",
       "1               47            3.0           2.0                 64.0   \n",
       "2              102            3.0           2.0                 66.0   \n",
       "3              205            3.0           1.0                 58.0   \n",
       "4              832            3.0           1.0                 63.0   \n",
       "5              353            3.0           1.0                 55.0   \n",
       "6              392            3.0           2.0                 59.0   \n",
       "7              859            3.0           2.0                 59.0   \n",
       "8             1273            3.0           2.0                 55.0   \n",
       "9              557            3.0           1.0                 55.0   \n",
       "10            1671            3.0           2.0                 59.0   \n",
       "11             233            3.0           1.0                 58.0   \n",
       "12             588            3.0           2.0                 57.0   \n",
       "13             227            3.0           1.0                 57.0   \n",
       "14             905            3.0           1.0                 61.0   \n",
       "15           38347            3.0           1.0                 54.0   \n",
       "16             184            3.0           1.0                 59.0   \n",
       "17             139            3.0           1.0                 58.0   \n",
       "18             953            3.0           2.0                 58.0   \n",
       "19            1663            3.0           1.0                 60.0   \n",
       "20             167            3.0           2.0                 53.0   \n",
       "21             283            3.0           1.0                 55.0   \n",
       "22             196            3.0           1.0                 56.0   \n",
       "23             260            3.0           1.0                 56.0   \n",
       "24             568            3.0           1.0                 57.0   \n",
       "25             610            3.0           1.0                 53.0   \n",
       "\n",
       "    ap_mean_land_area residence_type                      city h_mean_price  \\\n",
       "0               870.0          HOUSE          VIEILLE TOULOUSE    372716.0€   \n",
       "1                95.0          HOUSE                    LABEGE    323244.0€   \n",
       "2                 0.0          HOUSE        AUZEVILLE-TOLOSANE    332080.0€   \n",
       "3                14.0          HOUSE         QUINT-FONSEGRIVES    304841.0€   \n",
       "4                18.0          HOUSE                     BALMA    340393.0€   \n",
       "5                21.0          HOUSE                   L UNION    287504.0€   \n",
       "6                14.0          HOUSE                 BEAUZELLE    284750.0€   \n",
       "7                15.0          HOUSE          CASTANET TOLOSAN    307328.0€   \n",
       "8                 6.0          HOUSE             TOURNEFEUILLE    318236.0€   \n",
       "9                59.0          HOUSE                SAINT-JEAN    277069.0€   \n",
       "10               30.0          HOUSE                   BLAGNAC    280937.0€   \n",
       "11               41.0          HOUSE       VILLENEUVE TOLOSANE    234438.0€   \n",
       "12               12.0          HOUSE  SAINT-ORENS-DE-GAMEVILLE    288603.0€   \n",
       "13               33.0          HOUSE              CORNEBARRIEU    241667.0€   \n",
       "14                9.0          HOUSE     RAMONVILLE-SAINT-AGNE    315987.0€   \n",
       "15               16.0          HOUSE                  TOULOUSE    289412.0€   \n",
       "16               99.0          HOUSE        PORTET SUR GARONNE    230324.0€   \n",
       "17              162.0          HOUSE                ESCALQUENS    303083.0€   \n",
       "18               22.0          HOUSE                   CUGNAUX    259260.0€   \n",
       "19               15.0          HOUSE                 COLOMIERS    264267.0€   \n",
       "20               33.0          HOUSE                    PIBRAC    319253.0€   \n",
       "21               40.0          HOUSE                  LEGUEVIN    254132.0€   \n",
       "22               42.0          HOUSE                FENOUILLET    241681.0€   \n",
       "23               26.0          HOUSE        PLAISANCE DU TOUCH    271320.0€   \n",
       "24               93.0          HOUSE                     MURET    229604.0€   \n",
       "25               13.0          HOUSE                AUCAMVILLE    246395.0€   \n",
       "\n",
       "   h_mean_m2_price  h_sales_volume  h_mean_rooms  h_mean_lots  \\\n",
       "0          2832.0€              43           5.0          0.0   \n",
       "1          2898.0€              84           4.0          0.0   \n",
       "2          2835.0€              87           5.0          0.0   \n",
       "3          3063.0€             167           4.0          0.0   \n",
       "4          3261.0€             365           5.0          0.0   \n",
       "5          2865.0€             473           5.0          0.0   \n",
       "6          2980.0€             184           4.0          0.0   \n",
       "7          2829.0€             295           5.0          0.0   \n",
       "8          3009.0€             886           5.0          0.0   \n",
       "9          2741.0€             458           5.0          0.0   \n",
       "10         3127.0€             529           4.0          0.0   \n",
       "11         2503.0€             358           4.0          0.0   \n",
       "12         2857.0€             483           5.0          0.0   \n",
       "13         2599.0€             376           4.0          0.0   \n",
       "14         3031.0€             219           5.0          0.0   \n",
       "15         3296.0€            4859           4.0          0.0   \n",
       "16         2469.0€             353           4.0          0.0   \n",
       "17         2786.0€             189           5.0          0.0   \n",
       "18         2760.0€             722           4.0          0.0   \n",
       "19         2719.0€             921           4.0          0.0   \n",
       "20         2900.0€             299           5.0          0.0   \n",
       "21         2516.0€             360           4.0          0.0   \n",
       "22         2483.0€             169           4.0          0.0   \n",
       "23         2640.0€             688           4.0          0.0   \n",
       "24         2288.0€             712           4.0          0.0   \n",
       "25         2742.0€             300           4.0          0.0   \n",
       "\n",
       "    h_mean_living_area  h_mean_land_area  \n",
       "0                143.0            2034.0  \n",
       "1                117.0             709.0  \n",
       "2                122.0             670.0  \n",
       "3                104.0             541.0  \n",
       "4                110.0             455.0  \n",
       "5                103.0             535.0  \n",
       "6                 99.0             563.0  \n",
       "7                114.0             651.0  \n",
       "8                109.0             585.0  \n",
       "9                103.0             441.0  \n",
       "10                93.0             328.0  \n",
       "11                97.0             472.0  \n",
       "12               104.0             504.0  \n",
       "13                96.0             484.0  \n",
       "14               109.0             546.0  \n",
       "15                94.0             299.0  \n",
       "16                99.0             516.0  \n",
       "17               114.0             627.0  \n",
       "18                98.0             420.0  \n",
       "19               100.0             419.0  \n",
       "20               115.0             740.0  \n",
       "21               103.0             639.0  \n",
       "22               100.0             518.0  \n",
       "23               106.0             666.0  \n",
       "24               104.0             713.0  \n",
       "25                95.0             364.0  "
      ]
     },
     "execution_count": 35,
     "metadata": {},
     "output_type": "execute_result"
    }
   ],
   "source": [
    "# Show them in descending order of average price\n",
    "pd.concat([real_estate_overview_apartment_df, real_estate_overview_house_df], axis=1).sort_values(by=['ap_mean_price', 'h_mean_price'], ascending=False).reset_index(drop=True)"
   ]
  },
  {
   "cell_type": "markdown",
   "id": "a7111e66-1259-416b-92fc-266bd4fc98c4",
   "metadata": {},
   "source": [
    "**Observations:**\n",
    "* We can quickly notice that appartments in **VIEILLE TOULOUSE** are sold at the highest price (11.000€/m²), although this city sells the lower number of apartments (i.e. 2 apartments). Indeed the inhabitants of this city are more likely to buy houses there, that may be why the apartments are sold with an expennsive price, in order for the real estate companies to make profit.\n",
    "* In the contrary, the less expensive residences are located in **AUCAMVILLE** (2354€/m² for apartments and 2582€/m² for houses), although they are sold in high volume  compared to other cities (610 apartments and 300 houses.) \n",
    "* **TOULOUSE** is the city with the highest number of sales in our dataset (38347 apartments and 4859 houses sold).\n"
   ]
  },
  {
   "cell_type": "markdown",
   "id": "492ff0f8-fed8-4d3d-85ee-b0c7c31c7c0a",
   "metadata": {},
   "source": [
    "### Quick overview whithout the distinction of Residence type"
   ]
  },
  {
   "cell_type": "code",
   "execution_count": 36,
   "id": "11cf5749-e6e8-459a-be90-36de48091f00",
   "metadata": {},
   "outputs": [],
   "source": [
    "# Average property price per city (downward price without making a distinction of ReisidenceType)\n",
    "#print('Top 5 most expensive cities:')\n",
    "real_estate_avg_bottom_df = spark.sql(\"SELECT City, ROUND(avg(Price),2) as mean_price FROM real_estate GROUP BY City ORDER BY mean_price desc \")\n",
    "#real_estate_avg_bottom_df.show(5)\n",
    "\n",
    "# Average property price per city (rising price without making a distinction of ReisidenceType)\n",
    "#print('Top 5 less expensive cities:')\n",
    "real_estate_avg_top_df = spark.sql(\"SELECT City, ROUND(avg(Price),2) as mean_price FROM real_estate GROUP BY City ORDER BY mean_price asc \")\n",
    "#real_estate_avg_top_df.show(5)"
   ]
  },
  {
   "cell_type": "code",
   "execution_count": 37,
   "id": "84248292-59b7-43a2-a987-e68dcf1d9c93",
   "metadata": {},
   "outputs": [],
   "source": [
    "# Visualization \n",
    "df_pandas_top_city = real_estate_avg_top_df.toPandas()[0:5]\n",
    "#df_pandas_top_city\n",
    "\n",
    "df_pandas_bottom_city = real_estate_avg_bottom_df.toPandas()[0:5]\n",
    "#df_pandas_bottom_city\n",
    "\n",
    "df_concat =  pd.concat([df_pandas_top_city, df_pandas_bottom_city]).sort_values(ascending=False, by = ['mean_price']).reset_index(drop=True)\n",
    "df_concat\n",
    "\n",
    "df_concat.loc[0:3, ['color']] = 'green'\n",
    "df_concat.loc[3:7, ['color']] = 'gainsboro'\n",
    "df_concat.loc[7:9, ['color']] = 'red'\n",
    "#real_estate_avg_top_df.show(5).toPandas.plot.bar()  "
   ]
  },
  {
   "cell_type": "code",
   "execution_count": 38,
   "id": "0047263b-3eeb-4056-94c6-4a3fd2d491d9",
   "metadata": {},
   "outputs": [
    {
     "data": {
      "image/png": "[encoded data removed]",
      "text/plain": [
       "<Figure size 1440x432 with 1 Axes>"
      ]
     },
     "metadata": {
      "needs_background": "light"
     },
     "output_type": "display_data"
    }
   ],
   "source": [
    "city = df_concat.City\n",
    "values = df_concat.mean_price.round()\n",
    "  \n",
    "fig = plt.figure(figsize = (20, 6))\n",
    " \n",
    "# creating the bar plot\n",
    "plt.bar(city, values, color = df_concat.color, width = 0.4)\n",
    "\n",
    "for i, val in enumerate(values):\n",
    "    plt.text(i, val, f'{float(val)}€', horizontalalignment='center', verticalalignment='bottom', fontdict={'fontweight':500, 'size':10})\n",
    "\n",
    "plt.ylabel(\"Average price\")\n",
    "plt.title(\"Top and bottom 5 cities in terms of prices\", fontdict={'fontweight':500, 'size':15})\n",
    "plt.show()\n"
   ]
  },
  {
   "cell_type": "markdown",
   "id": "b217774f-2097-411a-8e3f-b827d1972e75",
   "metadata": {},
   "source": [
    "**Observation:** Even without considering the residence type, the cheapest city in terms of real estate is **AUCAMVILLE** and the most expensive one is **VIEILLE TOULOUSE**."
   ]
  },
  {
   "cell_type": "code",
   "execution_count": 39,
   "id": "a72e142f-4bcd-48c8-ad06-6d0d92c1596b",
   "metadata": {},
   "outputs": [
    {
     "name": "stdout",
     "output_type": "stream",
     "text": [
      "+--------------------+----------+---------------+\n",
      "|                City|mean_rooms|mean_LivingArea|\n",
      "+--------------------+----------+---------------+\n",
      "|            TOULOUSE|       3.0|           59.0|\n",
      "|          AUCAMVILLE|       3.0|           67.0|\n",
      "|             BLAGNAC|       3.0|           67.0|\n",
      "|RAMONVILLE-SAINT-...|       3.0|           71.0|\n",
      "|           BEAUZELLE|       3.0|           72.0|\n",
      "|    CASTANET TOLOSAN|       3.0|           73.0|\n",
      "|           COLOMIERS|       3.0|           74.0|\n",
      "|             CUGNAUX|       3.0|           75.0|\n",
      "|          FENOUILLET|       3.0|           77.0|\n",
      "|       TOURNEFEUILLE|       3.0|           77.0|\n",
      "|               BALMA|       3.0|           77.0|\n",
      "|   QUINT-FONSEGRIVES|       3.0|           79.0|\n",
      "|          SAINT-JEAN|       4.0|           77.0|\n",
      "|SAINT-ORENS-DE-GA...|       4.0|           79.0|\n",
      "|        CORNEBARRIEU|       4.0|           81.0|\n",
      "|            LEGUEVIN|       4.0|           82.0|\n",
      "| VILLENEUVE TOLOSANE|       4.0|           82.0|\n",
      "|             L UNION|       4.0|           83.0|\n",
      "|               MURET|       4.0|           84.0|\n",
      "|  PORTET SUR GARONNE|       4.0|           85.0|\n",
      "+--------------------+----------+---------------+\n",
      "only showing top 20 rows\n",
      "\n"
     ]
    }
   ],
   "source": [
    "# Average number of rooms per city\n",
    "\n",
    "real_estate_avg_room_df = spark.sql(\"SELECT City, round(avg(NbRooms)) as mean_rooms, round(avg(LivingArea)) as mean_LivingArea FROM real_estate GROUP BY City ORDER BY mean_rooms asc, mean_LivingArea asc \")\n",
    "real_estate_avg_room_df.show()"
   ]
  },
  {
   "cell_type": "markdown",
   "id": "16c3f6ac-6988-4c7d-bebf-c071d6334c26",
   "metadata": {},
   "source": [
    "**Observation:** We can see that Toulouse is the city with the fewest rooms (we also see that the living areas are smaller, so this must be the reason) : The number of rooms increases with the size of the residence."
   ]
  },
  {
   "cell_type": "code",
   "execution_count": 40,
   "id": "a9cb1dba-bf76-47af-821d-2afeda4982b0",
   "metadata": {},
   "outputs": [
    {
     "name": "stdout",
     "output_type": "stream",
     "text": [
      "+--------------------+-------------+\n",
      "|                City|m2_mean_price|\n",
      "+--------------------+-------------+\n",
      "|              LABEGE|       3429.0|\n",
      "|            TOULOUSE|       3394.0|\n",
      "|       TOURNEFEUILLE|       3304.0|\n",
      "|   QUINT-FONSEGRIVES|       3275.0|\n",
      "|           BEAUZELLE|       3273.0|\n",
      "|  AUZEVILLE-TOLOSANE|       3199.0|\n",
      "|    VIEILLE TOULOUSE|       3195.0|\n",
      "|               BALMA|       3192.0|\n",
      "|             BLAGNAC|       3189.0|\n",
      "|             L UNION|       3188.0|\n",
      "|    CASTANET TOLOSAN|       3183.0|\n",
      "|          SAINT-JEAN|       3077.0|\n",
      "|SAINT-ORENS-DE-GA...|       3068.0|\n",
      "|              PIBRAC|       3042.0|\n",
      "|RAMONVILLE-SAINT-...|       2886.0|\n",
      "|          ESCALQUENS|       2852.0|\n",
      "|             CUGNAUX|       2840.0|\n",
      "|        CORNEBARRIEU|       2831.0|\n",
      "|           COLOMIERS|       2793.0|\n",
      "| VILLENEUVE TOLOSANE|       2780.0|\n",
      "+--------------------+-------------+\n",
      "only showing top 20 rows\n",
      "\n"
     ]
    }
   ],
   "source": [
    "# m2 price\n",
    "\n",
    "m2_real_estate_df = spark.sql(\"SELECT City, ROUND(avg(Price/LivingArea)) as m2_mean_price FROM real_estate GROUP BY City ORDER BY m2_mean_price desc\")\n",
    "m2_real_estate_df.show()"
   ]
  },
  {
   "cell_type": "markdown",
   "id": "85a03536-3353-44f5-b7e2-ee3151e5560d",
   "metadata": {
    "tags": []
   },
   "source": [
    "#### Plot"
   ]
  },
  {
   "cell_type": "code",
   "execution_count": 41,
   "id": "ba89613e-f2a5-4ff0-9b31-e5e4d452d80f",
   "metadata": {
    "tags": []
   },
   "outputs": [
    {
     "data": {
      "image/png": "[encoded data removed]",
      "text/plain": [
       "<Figure size 432x288 with 1 Axes>"
      ]
     },
     "metadata": {},
     "output_type": "display_data"
    }
   ],
   "source": [
    "# Repartition of the number of rooms in Villeneuve Tolosane\n",
    "\n",
    "#Running Query\n",
    "df1 = spark.sql(\"SELECT * from real_estate\").toPandas()\n",
    "df2 = spark.sql(\"SELECT NbRooms FROM real_estate WHERE City='VILLENEUVE TOLOSANE' GROUP BY NbRooms\").toPandas()\n",
    "\n",
    "#Creating Visualization\n",
    "fig = plt.pie(df2['NbRooms'], autopct='%1.1f%%', startangle=140,labels=df2['NbRooms'])\n",
    "plt.title('Repartition of the number of rooms in Villeneuve Tolosane')\n",
    "plt.show()\n",
    "\n",
    "#https://towardsdatascience.com/complete-introduction-to-pyspark-part-4-62a99ce3552a"
   ]
  },
  {
   "cell_type": "code",
   "execution_count": 42,
   "id": "ef2ea1cc-d06f-45a9-a997-c8e0acffb7fa",
   "metadata": {},
   "outputs": [
    {
     "data": {
      "text/plain": [
       "(array([2.5386e+04, 3.3494e+04, 6.7680e+03, 4.8700e+02, 5.4000e+01,\n",
       "        2.0000e+00, 1.0000e+00, 1.0000e+00, 0.0000e+00, 0.0000e+00,\n",
       "        0.0000e+00, 0.0000e+00, 1.0000e+00, 0.0000e+00, 0.0000e+00,\n",
       "        0.0000e+00, 0.0000e+00, 0.0000e+00, 0.0000e+00, 1.0000e+00]),\n",
       " array([ 1,  3,  5,  7,  9, 11, 13, 15, 17, 19, 21, 23, 25, 27, 29, 31, 33,\n",
       "        35, 37, 39, 41]),\n",
       " <BarContainer object of 20 artists>)"
      ]
     },
     "execution_count": 42,
     "metadata": {},
     "output_type": "execute_result"
    },
    {
     "data": {
      "image/png": "[encoded data removed]",
      "text/plain": [
       "<Figure size 432x288 with 1 Axes>"
      ]
     },
     "metadata": {
      "needs_background": "light"
     },
     "output_type": "display_data"
    }
   ],
   "source": [
    "# Repartition of the number of rooms in Toulouse and its suburbs\n",
    "fig, ax = plt.subplots()\n",
    "hist(ax, clean_real_estate_df.select('NbRooms'), bins = 20, color=['red'])"
   ]
  },
  {
   "cell_type": "raw",
   "id": "8f662901-902c-4f77-9216-be3d588a16c4",
   "metadata": {},
   "source": [
    "There are mostly less than 5 bedrooms in Toulouse accommodation"
   ]
  },
  {
   "cell_type": "code",
   "execution_count": 43,
   "id": "13deb0e4-06dc-4bd5-b0c8-354cf74ac790",
   "metadata": {
    "tags": []
   },
   "outputs": [
    {
     "data": {
      "text/plain": [
       "(array([1.3963e+04, 0.0000e+00, 3.4065e+04, 0.0000e+00, 1.5630e+04,\n",
       "        0.0000e+00, 2.1630e+03, 0.0000e+00, 3.0800e+02, 0.0000e+00,\n",
       "        0.0000e+00, 3.7000e+01, 0.0000e+00, 1.7000e+01, 0.0000e+00,\n",
       "        6.0000e+00, 0.0000e+00, 5.0000e+00, 0.0000e+00, 1.0000e+00]),\n",
       " array([0.  , 0.45, 0.9 , 1.35, 1.8 , 2.25, 2.7 , 3.15, 3.6 , 4.05, 4.5 ,\n",
       "        4.95, 5.4 , 5.85, 6.3 , 6.75, 7.2 , 7.65, 8.1 , 8.55, 9.  ]),\n",
       " <BarContainer object of 20 artists>)"
      ]
     },
     "execution_count": 43,
     "metadata": {},
     "output_type": "execute_result"
    },
    {
     "data": {
      "image/png": "[encoded data removed]",
      "text/plain": [
       "<Figure size 432x288 with 1 Axes>"
      ]
     },
     "metadata": {
      "needs_background": "light"
     },
     "output_type": "display_data"
    }
   ],
   "source": [
    "# Repartition of the number of lots in Toulouse and its suburbs \n",
    "fig, ax = plt.subplots()\n",
    "hist(ax, clean_real_estate_df.select('NbLots'), bins = 20, color=['blue'])"
   ]
  },
  {
   "cell_type": "code",
   "execution_count": 44,
   "id": "58f1b77c-ec7f-4976-b9a1-b96870d6e38c",
   "metadata": {},
   "outputs": [
    {
     "name": "stdout",
     "output_type": "stream",
     "text": [
      "Top selling cities:\n",
      "+--------+-----------+\n",
      "|    city|total_price|\n",
      "+--------+-----------+\n",
      "|TOULOUSE|31724699371|\n",
      "| BLAGNAC| 2524100608|\n",
      "| CUGNAUX| 1006232069|\n",
      "+--------+-----------+\n",
      "only showing top 3 rows\n",
      "\n",
      "Bottom selling cities:\n",
      "+------------------+-----------+\n",
      "|              city|total_price|\n",
      "+------------------+-----------+\n",
      "|            LABEGE|   41627819|\n",
      "|AUZEVILLE-TOLOSANE|   56654539|\n",
      "|  VIEILLE TOULOUSE|   63845768|\n",
      "+------------------+-----------+\n",
      "only showing top 3 rows\n",
      "\n"
     ]
    }
   ],
   "source": [
    "#Top selling cities\n",
    "print('Top selling cities:')\n",
    "\n",
    "real_estate_cities_df = real_estate_df.groupBy('city')\\\n",
    "                                               .agg({'price':'sum'})\\\n",
    "                                               .withColumnRenamed('sum(price)','total_price')\\\n",
    "                                                .orderBy(['total_price'], ascending=[False])\n",
    "real_estate_cities_df.show(3)\n",
    "\n",
    "# Bottom selling cities\n",
    "print('Bottom selling cities:')\n",
    "\n",
    "real_estate_cities_df = real_estate_df.groupBy('city')\\\n",
    "                                               .agg({'price':'sum'})\\\n",
    "                                               .withColumnRenamed('sum(price)','total_price')\\\n",
    "                                                .orderBy(['total_price'], ascending=[True])\n",
    "real_estate_cities_df.show(3)"
   ]
  },
  {
   "cell_type": "code",
   "execution_count": 45,
   "id": "7a02ba3f-e67a-4073-ae1f-b3a72a487115",
   "metadata": {},
   "outputs": [
    {
     "name": "stdout",
     "output_type": "stream",
     "text": [
      "+-------------+--------------------+\n",
      "|ResidenceType|count(ResidenceType)|\n",
      "+-------------+--------------------+\n",
      "|        HOUSE|               17630|\n",
      "|    APARTMENT|               62488|\n",
      "+-------------+--------------------+\n",
      "\n"
     ]
    }
   ],
   "source": [
    "# distribution of type of residence\n",
    "real_estate_residence_type_df = real_estate_df.groupBy('ResidenceType')\\\n",
    "                                 .agg({'ResidenceType':'count'})\\\n",
    "                                 \n",
    "                                 \n",
    "\n",
    "real_estate_residence_type_df.show()"
   ]
  },
  {
   "cell_type": "markdown",
   "id": "8b27bea9-5dac-44f2-8efa-8e4e09b04a3c",
   "metadata": {},
   "source": [
    "**Observation:** We notice that Toulouse and its suburbs are mostly made up of apartments"
   ]
  },
  {
   "cell_type": "code",
   "execution_count": 46,
   "id": "9aeedc25-0b53-4936-9d2e-5b6b983ae5f2",
   "metadata": {},
   "outputs": [
    {
     "name": "stdout",
     "output_type": "stream",
     "text": [
      "+--------------------+---------------+\n",
      "|            SaleType|count(SaleType)|\n",
      "+--------------------+---------------+\n",
      "|SALE BEFORE COMPL...|          13430|\n",
      "|                SALE|          66688|\n",
      "+--------------------+---------------+\n",
      "\n"
     ]
    }
   ],
   "source": [
    "# distribution of type of sale type\n",
    "real_estate_sale_type_df = real_estate_df.groupBy('SaleType')\\\n",
    "                                 .agg({'SaleType':'count'})\\\n",
    "                                 \n",
    "                                 \n",
    "\n",
    "real_estate_sale_type_df.show()"
   ]
  },
  {
   "cell_type": "markdown",
   "id": "82e201f8-b2cc-49d3-ab96-1ffaba40ae34",
   "metadata": {},
   "source": [
    "**Observation:** There is more \"Sale\" than \"Sale before completion\" in Toulouse and its suburbs"
   ]
  },
  {
   "cell_type": "markdown",
   "id": "56b0efd5-7681-47ee-a9e5-be89bbc5078d",
   "metadata": {},
   "source": [
    "**Conclusion:**\n",
    "* We have noticed that there are more apartments sold than houses and that the majority of apartments have less than 5 bedrooms.\n",
    "* The three cities where accommodation is the cheapest are in the suburbs: AUCAMVILLE, MURET, TOULOUSE and the three cities where housing is the most expensive are:  VIEILLE TOULOUSE, LABEGE, AUZEVILLE TOLOSANE (whithout considerate the type of residence)\n",
    "* But regarding appartments, in VIEILLE TOULOUSE there are sold at the highest price (11.000€/m²), although this city sells the lower number of apartments (i.e. 2 apartments). Indeed the inhabitants of this city are more likely to buy houses there, that may be why the apartments are sold with an expennsive price, in order for the real estate companies to make profit.\n",
    "* In the contrary, the less expensive residences are located in AUCAMVILLE (2354€/m² for apartments and 2582€/m² for houses), although they are sold in high volume  compared to other cities (610 apartments and 300 houses.) \n",
    "* TOULOUSE is the city with the highest number of sales in our dataset (38347 apartments and 4859 houses sold).\n",
    "* Finally, unsurprisingly, the city where the volume of sales is the highest is the agglomeration: Toulouse, followed by Blagnac and Cugnaux."
   ]
  }
 ],
 "metadata": {
  "kernelspec": {
   "display_name": "Python 3 (ipykernel)",
   "language": "python",
   "name": "python3"
  },
  "language_info": {
   "codemirror_mode": {
    "name": "ipython",
    "version": 3
   },
   "file_extension": ".py",
   "mimetype": "text/x-python",
   "name": "python",
   "nbconvert_exporter": "python",
   "pygments_lexer": "ipython3",
   "version": "3.9.7"
  }
 },
 "nbformat": 4,
 "nbformat_minor": 5
}
